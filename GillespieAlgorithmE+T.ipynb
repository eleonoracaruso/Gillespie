{
  "nbformat": 4,
  "nbformat_minor": 0,
  "metadata": {
    "colab": {
      "name": "GillespieNEW.ipynb",
      "provenance": [],
      "collapsed_sections": [
        "96ELk4w67cF3",
        "8Udh3iQQu7AD"
      ]
    },
    "kernelspec": {
      "display_name": "Python 3",
      "name": "python3"
    },
    "language_info": {
      "name": "python"
    }
  },
  "cells": [
    {
      "cell_type": "markdown",
      "metadata": {
        "id": "-xqzAZRMYE14"
      },
      "source": [
        "# E+T GILLESPIE'S ALGORITHM"
      ]
    },
    {
      "cell_type": "markdown",
      "metadata": {
        "id": "8dlpd8KlE-t0"
      },
      "source": [
        "##*Create directory to store results*\n",
        "Before running the experiment, connect to Google Drive using the URL and following the instruction.\n",
        "\n",
        "Change both the paths below to create a directory. Attention: the two paths has to be the same.\n",
        "\n",
        "Notice: if you want to print the results only on the terminal there's no need to run this section."
      ]
    },
    {
      "cell_type": "code",
      "metadata": {
        "id": "OEWXSn_LFF6h"
      },
      "source": [
        "from google.colab import drive\n",
        "drive.mount('/content/drive')        # Connect your drive"
      ],
      "execution_count": null,
      "outputs": []
    },
    {
      "cell_type": "code",
      "metadata": {
        "id": "I114EZrGG1vj"
      },
      "source": [
        "MY_DIR = 'drive/MyDrive'\n",
        "\n",
        "!mkdir 'drive/MyDrive'    # Create output directory: we will store the results there  \n"
      ],
      "execution_count": null,
      "outputs": []
    },
    {
      "cell_type": "markdown",
      "metadata": {
        "id": "96ELk4w67cF3"
      },
      "source": [
        "## *Libraries*\n",
        "\n",
        "These are useful libraries for running the program."
      ]
    },
    {
      "cell_type": "code",
      "metadata": {
        "id": "AQi0eArI7hPq"
      },
      "source": [
        "# LIBRARIES\n",
        "import numpy as np\n",
        "#np.random.seed(1) # Remove comment to produce replicable results"
      ],
      "execution_count": null,
      "outputs": []
    },
    {
      "cell_type": "markdown",
      "metadata": {
        "id": "_lANXoCcBXQ7"
      },
      "source": [
        "## *Start the experiment*\n",
        "We define functions useful for the experiment and the function that performs the experiments.\n",
        "\n",
        "In the experiment for each step we generate one random pair ($\\tau$, $\\mu$) according to the joint probability density function $P(\\tau, \\mu)$ by employing Monte Carlo techniques. Using $\\tau$ and $\\mu$ we advance time by $\\tau$ and update the {$X_i$} values of those species involved in the reaction. Then, we update $h_{\\nu}c_{\\nu}$ (and $a$)."
      ]
    },
    {
      "cell_type": "code",
      "metadata": {
        "id": "M8y56IURB8I6"
      },
      "source": [
        "#FUNCTION FOR THE EXPERIMENT\n",
        "\n",
        "\n",
        "#Combinatorial factor computation\n",
        "def compute_h(mu_reaction, X_list):\n",
        "\n",
        "  h_result = 1\n",
        "\n",
        "  for i in range (0,len(X_list)):\n",
        "\n",
        "    if (mu_reaction[i]== 0):   # =0 case: it's not a reactant\n",
        "      h_result = h_result \n",
        "   \n",
        "    else:               # >0 case: it's a reactant \n",
        "      numerator   = 1 \n",
        "      denominator = 1   \n",
        "      for j in range(mu_reaction[i]):  \n",
        "        numerator   = numerator * (X_list[i] - j) \n",
        "        denominator = denominator * (j+1)\n",
        "      \n",
        "      h_result = h_result * (numerator/denominator)\n",
        "\n",
        "  #print(f\"Reaction : {mu_reaction}, h computed : {h_result}\")  # Remove comment to print h \n",
        "  return h_result\n",
        "\n",
        "\n",
        "#Tau extraction\n",
        "def extract_tau(a): \n",
        "\n",
        "  r1 = np.random.rand()     # A random number uniformly sampled from [0,1] interval\n",
        "  tau = (1/a) * np.log(1/r1)\n",
        "\n",
        "  return tau\n",
        "\n",
        "\n",
        "#Mu extraction\n",
        "def extract_mu(a, ch_list):\n",
        "\n",
        "    r2 = np.random.rand()  # A random number uniformly sampled from [0,1] interval\n",
        "    for index_nu in range(len(ch_list)): \n",
        "      a_nu = np.sum(ch_list[:index_nu+1]) \n",
        "\n",
        "      if (a_nu >= r2*a) :\n",
        "        mu_index = index_nu     \n",
        "\n",
        "        return mu_index\n",
        "\n",
        "\n",
        "\n",
        "\n",
        "\n",
        "#EXPERIMENT\n",
        "def perform_experiment(ch, X, times, mu):\n",
        "\n",
        "  ch_list = ch.copy()           # Initialization\n",
        "  X_list = X.copy()\n",
        "  sampling_times = times.copy()\n",
        "  mu = mu.copy()\n",
        "  a = np.sum(ch_list)   \n",
        "  t = 0\n",
        "  results_list = []\n",
        "  stop_loop = False\n",
        "\n",
        "  while (stop_loop == False):  \n",
        "\n",
        "    while (t >= sampling_times[0]) :\n",
        "\n",
        "      results_list.append(X_list)  \n",
        "      #print(f\"Printing informations at sampling time t : {round(sampling_times[0],5)}\")    # Remove comment to print configurations\n",
        "      #print(f\"System configuration (X_list) : {X_list}\")   \n",
        "      sampling_times.pop(0) \n",
        "    \n",
        "    tau = extract_tau(a)    # Tau generation\n",
        "    \n",
        "    mu_index = extract_mu(a, ch_list)     # Mu generation\n",
        "\n",
        "    \n",
        "    current_reaction = np.array(mu[mu_index][0:len(X)])-np.array(mu[mu_index][len(X):2*len(X)])   # The reaction occurred: update\n",
        "    X_list = np.array(X_list) - np.array(current_reaction)  \n",
        "    ch_list = []\n",
        "\n",
        "    for reaction_index, reaction in enumerate(mu):\n",
        "\n",
        "      ch_list.append(c_list[reaction_index] * (compute_h(reaction, X_list)))\n",
        "    \n",
        "    a = np.sum(ch_list)\n",
        "\n",
        "    #print(f\"\\n  Reaction time : {t} \\n\")      # Remove comment to print reaction time\n",
        "    t = t + tau                            \n",
        "   \n",
        "    if (t >= T_STOP or np.sum(ch_list) == 0):     # Stop loop condition\n",
        "      results_list.append(X_list) \n",
        "\n",
        "      if len(results_list) < N_SAMPLES+2 :\n",
        "\n",
        "        diff = N_SAMPLES+2 - len(results_list)\n",
        "\n",
        "        for instant in range(diff):\n",
        "\n",
        "          results_list.append(X_list)\n",
        "          #print(f\"Printing informations at sampling time t : {round(sampling_times[0],2)}\")  # Remove comment to print configurations\n",
        "          #print(f\"System configuration (X_list) : {X_list}\")\n",
        "          sampling_times.pop(0) \n",
        "\n",
        "      stop_loop = True\n",
        "  \n",
        "  \n",
        "  print(f\"\\n------------ EXPERIMENT COMPLETED -------------\\n\\n\\n\")\n",
        "  return results_list   # Storing results of all experiments\n"
      ],
      "execution_count": null,
      "outputs": []
    },
    {
      "cell_type": "markdown",
      "metadata": {
        "id": "8Udh3iQQu7AD"
      },
      "source": [
        "## *Drop results into file*\n",
        "\n",
        "This code generates a file where:\n",
        "* For each time sample there is a new line\n",
        "* Lines are organized as:  $t_{sample}, X_1, X_2, X_3, ..., X_N$\n",
        "\n",
        "Notice: if you want to print the results only on the terminal there's no need to run this section."
      ]
    },
    {
      "cell_type": "code",
      "metadata": {
        "id": "vTkpsNRns7p-"
      },
      "source": [
        "def drop_results_into_file(results_list, file_num):\n",
        "  file_pos = MY_DIR + 'results_' + str(file_num) + '.txt'\n",
        "    with open(file_pos, 'w') as f:\n",
        "      for index, item in enumerate(results_list):\n",
        "          newline = str(round(index*JUMP_LEN,2)) \n",
        "          for index_item in range(len(item)):\n",
        "              newline = newline + '\\t' + str(item[index_item])\n",
        "          newline = newline + '\\n'\n",
        "          f.write(newline)"
      ],
      "execution_count": null,
      "outputs": []
    },
    {
      "cell_type": "markdown",
      "metadata": {
        "id": "HeERsx8V60hO"
      },
      "source": [
        "## *Launch the experiments!*\n",
        "Here is where the inputs have to be inserted.\n",
        "\n",
        "The program needs:\n",
        "\n",
        "*   The number of simulations       (positive integer)\n",
        "*   The number of samplings         (positive integer)\n",
        "*   The sampling time interval      (positive)\n",
        "*   Initial species configurations  (not negative integer entries)\n",
        "*   The reaction parameters         (positive entries)\n",
        "*   The stechiometric matrix        (not negative integer entries)\n",
        "\n",
        "For the stechiometric matrix :\n",
        "\n",
        "number of rows = lenght of reaction parameters vector\n",
        "\n",
        "number of columns = 2 * lenght of initial number of species vector\n",
        "\n",
        "\n",
        "\n",
        "\n"
      ]
    },
    {
      "cell_type": "code",
      "metadata": {
        "id": "KhXzwyUy7DWN"
      },
      "source": [
        "\n",
        "#INITIALIZATION \n",
        "N_EXPERIMENTS = 5000          # Number of simulations\n",
        "N_SAMPLES   = 500            # Number of samplings\n",
        "JUMP_LEN    = 0.08           # Sampling times interval\n",
        "\n",
        "\n",
        "X = [1000, 0]              # Initial number of molecules for each chemical species\n",
        "\n",
        "\n",
        "c_list = [0.2]          # Reaction parameters \n",
        " \n",
        "mu = [[1,0,0,1],\n",
        "      ]                       # Stechiometric constants matrix \n",
        "\n",
        "T_STOP = N_SAMPLES * JUMP_LEN\n",
        "times = [JUMP_LEN*elem for elem in range(N_SAMPLES+1)]\n",
        "X = np.array(X)\n",
        "ch = [] \n",
        "for reaction_index, reaction in enumerate(mu):\n",
        "  ch.append(c_list[reaction_index] * (compute_h(reaction, X)))\n",
        "\n",
        "# LAUNCH IT!\n",
        "for i in range(1, N_EXPERIMENTS+1):\n",
        "  results_list = perform_experiment(ch, X, times, mu)\n",
        "  drop_results_into_file(results_list, i)  # Comment if file writing is unabled"
      ],
      "execution_count": null,
      "outputs": []
    }
  ]
}